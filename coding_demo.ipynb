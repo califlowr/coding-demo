{
  "nbformat": 4,
  "nbformat_minor": 0,
  "metadata": {
    "colab": {
      "name": "coding-demo.ipynb",
      "version": "0.3.2",
      "provenance": []
    },
    "kernelspec": {
      "name": "python3",
      "display_name": "Python 3"
    }
  },
  "cells": [
    {
      "metadata": {
        "id": "MyCWbd4MRqJ_",
        "colab_type": "code",
        "colab": {
          "base_uri": "https://localhost:8080/",
          "height": 34
        },
        "outputId": "f2f10253-1a69-4db1-8e59-48ca6374d97a"
      },
      "cell_type": "code",
      "source": [
        "print('Hello World')"
      ],
      "execution_count": 1,
      "outputs": [
        {
          "output_type": "stream",
          "text": [
            "Hello World\n"
          ],
          "name": "stdout"
        }
      ]
    },
    {
      "metadata": {
        "id": "hk0quiPYRzqO",
        "colab_type": "code",
        "colab": {
          "base_uri": "https://localhost:8080/",
          "height": 221
        },
        "outputId": "d27a65de-5ad6-4250-d372-bbf4aee35bfc"
      },
      "cell_type": "code",
      "source": [
        "title = 'Squares and Sum of Squares'\n",
        "print(title)\n",
        "sum_of_squares = 0\n",
        "number_of_iterations = 10\n",
        "for index in range(number_of_iterations):\n",
        "  index_squared = index ** 2\n",
        "  sum_of_squares = sum_of_squares + index_squared\n",
        "  print(index, index_squared, sum_of_squares)\n",
        "  \n",
        "print('Done!')"
      ],
      "execution_count": 3,
      "outputs": [
        {
          "output_type": "stream",
          "text": [
            "Squares and Sum of Squares\n",
            "0 0 0\n",
            "1 1 1\n",
            "2 4 5\n",
            "3 9 14\n",
            "4 16 30\n",
            "5 25 55\n",
            "6 36 91\n",
            "7 49 140\n",
            "8 64 204\n",
            "9 81 285\n",
            "Done!\n"
          ],
          "name": "stdout"
        }
      ]
    },
    {
      "metadata": {
        "id": "WY3gDw1XTV93",
        "colab_type": "code",
        "colab": {}
      },
      "cell_type": "code",
      "source": [
        ""
      ],
      "execution_count": 0,
      "outputs": []
    }
  ]
}